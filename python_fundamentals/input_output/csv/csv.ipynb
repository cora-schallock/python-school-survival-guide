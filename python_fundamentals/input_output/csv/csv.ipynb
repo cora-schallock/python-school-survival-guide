{
 "cells": [
  {
   "cell_type": "code",
   "execution_count": 1,
   "id": "ca057614-db98-4d03-97f4-a54204aee6b3",
   "metadata": {},
   "outputs": [],
   "source": [
    "import csv\n",
    "from path import Path"
   ]
  },
  {
   "cell_type": "markdown",
   "id": "3f4ea262-6d3d-4f64-8643-2c206e0d2aac",
   "metadata": {},
   "source": [
    "### Example #1: Reading From a CSV"
   ]
  },
  {
   "cell_type": "code",
   "execution_count": 2,
   "id": "55581cbe-ebc7-4777-bc3f-b166823c4d10",
   "metadata": {},
   "outputs": [],
   "source": [
    "def read_csv_file(file_path):\n",
    "    with open(file_path, newline='') as csvfile:\n",
    "        csv_as_dicts = csv.DictReader(csvfile)\n",
    "        return list(csv_as_dicts)"
   ]
  },
  {
   "cell_type": "code",
   "execution_count": 3,
   "id": "8004b049-728c-4b93-b823-a9b7e959e5d8",
   "metadata": {},
   "outputs": [
    {
     "data": {
      "text/plain": [
       "[{'Name': 'Glenn', 'Subspecies': 'Angolan', 'Height': '490'},\n",
       " {'Name': 'Galaxy', 'Subspecies': 'Masai ', 'Height': '518'},\n",
       " {'Name': 'Geoffrey', 'Subspecies': 'Reticulated', 'Height': '450'}]"
      ]
     },
     "execution_count": 3,
     "metadata": {},
     "output_type": "execute_result"
    }
   ],
   "source": [
    "read_csv_file(\"sample_csv_files/giraffe.csv\")"
   ]
  },
  {
   "cell_type": "markdown",
   "id": "8d4c4374-5884-4451-b44e-63bbf5d13e47",
   "metadata": {},
   "source": [
    "### Example #2: Reading in all CSV's in a folder"
   ]
  },
  {
   "cell_type": "code",
   "execution_count": 4,
   "id": "e9e7a032-28aa-47e5-b2ca-04e20c3dbc0c",
   "metadata": {},
   "outputs": [],
   "source": [
    "def read_all_csv_files(directory=\"\"):\n",
    "    csv_dict_list = []\n",
    "    for each_csv_file in Path(directory).glob(\"*.csv\"):\n",
    "        current_csv_dict = read_csv_file(each_csv_file)\n",
    "        csv_dict_list.extend(current_csv_dict)\n",
    "    return csv_dict_list"
   ]
  },
  {
   "cell_type": "code",
   "execution_count": 5,
   "id": "a30d0fd0-09ef-4eff-bdcf-e99918550e73",
   "metadata": {},
   "outputs": [
    {
     "data": {
      "text/plain": [
       "[{'Name': 'Glenn', 'Subspecies': 'Angolan', 'Height': '490'},\n",
       " {'Name': 'Galaxy', 'Subspecies': 'Masai ', 'Height': '518'},\n",
       " {'Name': 'Geoffrey', 'Subspecies': 'Reticulated', 'Height': '450'}]"
      ]
     },
     "execution_count": 5,
     "metadata": {},
     "output_type": "execute_result"
    }
   ],
   "source": [
    "read_all_csv_files(\"sample_csv_files/\")"
   ]
  },
  {
   "cell_type": "code",
   "execution_count": null,
   "id": "f259bd1b-b9c3-44a1-bc9a-a2068374cb86",
   "metadata": {},
   "outputs": [],
   "source": []
  }
 ],
 "metadata": {
  "kernelspec": {
   "display_name": "Python 3",
   "language": "python",
   "name": "python3"
  },
  "language_info": {
   "codemirror_mode": {
    "name": "ipython",
    "version": 3
   },
   "file_extension": ".py",
   "mimetype": "text/x-python",
   "name": "python",
   "nbconvert_exporter": "python",
   "pygments_lexer": "ipython3",
   "version": "3.8.8"
  }
 },
 "nbformat": 4,
 "nbformat_minor": 5
}
