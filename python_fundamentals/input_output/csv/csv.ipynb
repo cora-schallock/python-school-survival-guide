{
 "cells": [
  {
   "cell_type": "code",
   "execution_count": 1,
   "id": "ca057614-db98-4d03-97f4-a54204aee6b3",
   "metadata": {},
   "outputs": [],
   "source": [
    "import csv"
   ]
  },
  {
   "cell_type": "code",
   "execution_count": 11,
   "id": "55581cbe-ebc7-4777-bc3f-b166823c4d10",
   "metadata": {},
   "outputs": [
    {
     "name": "stdout",
     "output_type": "stream",
     "text": [
      "{'Name': 'Glenn', 'Subspecies': 'Angolan', 'Height': '490'}\n",
      "{'Name': 'Galaxy', 'Subspecies': 'Masai ', 'Height': '518'}\n",
      "{'Name': 'Geoffrey', 'Subspecies': 'Reticulated', 'Height': '450'}\n"
     ]
    }
   ],
   "source": [
    "def read_csv_file(file_path):\n",
    "    with open(file_path, newline='') as csvfile:\n",
    "        csv_as_dicts = csv.DictReader(csvfile)\n",
    "        for row in csv_as_dicts:\n",
    "            print(row)\n",
    "        #print(row['first_name'], row['last_name'])\n",
    "        \n",
    "read_csv_file(\"sample_csv_files/giraffe.csv\")"
   ]
  },
  {
   "cell_type": "code",
   "execution_count": null,
   "id": "e9e7a032-28aa-47e5-b2ca-04e20c3dbc0c",
   "metadata": {},
   "outputs": [],
   "source": []
  }
 ],
 "metadata": {
  "kernelspec": {
   "display_name": "Python 3",
   "language": "python",
   "name": "python3"
  },
  "language_info": {
   "codemirror_mode": {
    "name": "ipython",
    "version": 3
   },
   "file_extension": ".py",
   "mimetype": "text/x-python",
   "name": "python",
   "nbconvert_exporter": "python",
   "pygments_lexer": "ipython3",
   "version": "3.8.8"
  }
 },
 "nbformat": 4,
 "nbformat_minor": 5
}
