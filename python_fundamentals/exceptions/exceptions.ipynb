{
 "cells": [
  {
   "cell_type": "markdown",
   "id": "d0abdc8c-2ec3-423a-977f-52d4662173e8",
   "metadata": {},
   "source": [
    "#### Example #1: Basic try-except\n",
    "##### Why we need a try-except block\n",
    "In this example, you are taking input from a user that indicates a number. If the input can not be convereted to a number you should tell the user what they did wrong."
   ]
  },
  {
   "cell_type": "code",
   "execution_count": 1,
   "id": "42e7d498-4ded-46b8-a802-65f1d7a6ec74",
   "metadata": {},
   "outputs": [],
   "source": [
    "def factorial(x):\n",
    "    if x == 0:\n",
    "        return 1\n",
    "    else:\n",
    "        return x*factorial(x-1)"
   ]
  },
  {
   "cell_type": "code",
   "execution_count": 4,
   "id": "6a3f3397-f9e7-464c-9f61-25a96797b2af",
   "metadata": {},
   "outputs": [
    {
     "name": "stdin",
     "output_type": "stream",
     "text": [
      "please enter a number: abc\n"
     ]
    },
    {
     "ename": "ValueError",
     "evalue": "invalid literal for int() with base 10: 'abc'",
     "output_type": "error",
     "traceback": [
      "\u001b[1;31m---------------------------------------------------------------------------\u001b[0m",
      "\u001b[1;31mValueError\u001b[0m                                Traceback (most recent call last)",
      "\u001b[1;32m<ipython-input-4-0511fe3602fa>\u001b[0m in \u001b[0;36m<module>\u001b[1;34m\u001b[0m\n\u001b[0;32m      1\u001b[0m \u001b[0muser_input\u001b[0m \u001b[1;33m=\u001b[0m \u001b[0minput\u001b[0m\u001b[1;33m(\u001b[0m\u001b[1;34m\"please enter a number:\"\u001b[0m\u001b[1;33m)\u001b[0m\u001b[1;33m\u001b[0m\u001b[1;33m\u001b[0m\u001b[0m\n\u001b[1;32m----> 2\u001b[1;33m \u001b[0mthe_number\u001b[0m \u001b[1;33m=\u001b[0m \u001b[0mint\u001b[0m\u001b[1;33m(\u001b[0m\u001b[0muser_input\u001b[0m\u001b[1;33m)\u001b[0m\u001b[1;33m\u001b[0m\u001b[1;33m\u001b[0m\u001b[0m\n\u001b[0m\u001b[0;32m      3\u001b[0m \u001b[0mprint\u001b[0m\u001b[1;33m(\u001b[0m\u001b[0mfactorial\u001b[0m\u001b[1;33m(\u001b[0m\u001b[0mthe_number\u001b[0m\u001b[1;33m)\u001b[0m\u001b[1;33m)\u001b[0m\u001b[1;33m\u001b[0m\u001b[1;33m\u001b[0m\u001b[0m\n",
      "\u001b[1;31mValueError\u001b[0m: invalid literal for int() with base 10: 'abc'"
     ]
    }
   ],
   "source": [
    "user_input = input(\"please enter a number:\")\n",
    "the_number = int(user_input)\n",
    "print(factorial(the_number))"
   ]
  },
  {
   "cell_type": "markdown",
   "id": "bffd3c17-a922-4308-b052-04a107d920eb",
   "metadata": {},
   "source": [
    "##### Adding a try-except block"
   ]
  },
  {
   "cell_type": "code",
   "execution_count": 3,
   "id": "64fd3af0-d169-43a4-b757-71ad12f5539d",
   "metadata": {},
   "outputs": [
    {
     "name": "stdin",
     "output_type": "stream",
     "text": [
      "please enter a number: abc\n"
     ]
    },
    {
     "name": "stdout",
     "output_type": "stream",
     "text": [
      "Error: You must enter a number\n"
     ]
    }
   ],
   "source": [
    "try:\n",
    "    user_input = input(\"please enter a number:\")\n",
    "    the_number = int(user_input)\n",
    "    print(factorial(the_number))\n",
    "except:\n",
    "    print(\"Error: You must enter a number\")"
   ]
  },
  {
   "cell_type": "markdown",
   "id": "d95880cd-8719-41e0-be92-f761ce178504",
   "metadata": {},
   "source": [
    "#### Example #2: raise\n",
    "##### Why we need to add a raise"
   ]
  },
  {
   "cell_type": "markdown",
   "id": "6c42f862-5599-46b7-8b42-95047679017e",
   "metadata": {},
   "source": [
    "Now consider what happens in Example #1 if the user types in \"-1\":\n",
    "It will get stuck in the factorial function"
   ]
  },
  {
   "cell_type": "markdown",
   "id": "6ca57eee-82f3-4341-b708-ec30768928cd",
   "metadata": {},
   "source": [
    "##### Key Idea: Not all bugs will cause an exception to be raised."
   ]
  },
  {
   "cell_type": "markdown",
   "id": "df24d9f0-b0c2-4ae8-b2c2-23897b5faa54",
   "metadata": {},
   "source": [
    "One way to fix this issue is to add a raise statement.\n",
    "\n",
    "We can check if the inputted integer is non-negative (i.e. 0,1,2, ... ) and if not raise an exception which will print the error message we wrote."
   ]
  },
  {
   "cell_type": "markdown",
   "id": "3c1743d5-3520-4f59-94a1-39b36e335b94",
   "metadata": {},
   "source": [
    "##### Adding a raise"
   ]
  },
  {
   "cell_type": "code",
   "execution_count": 2,
   "id": "1f89aa05-f99c-429e-a35d-d52152d28772",
   "metadata": {},
   "outputs": [
    {
     "name": "stdin",
     "output_type": "stream",
     "text": [
      "please enter a number: -1\n"
     ]
    },
    {
     "name": "stdout",
     "output_type": "stream",
     "text": [
      "Error: You must enter a number\n"
     ]
    }
   ],
   "source": [
    "try:\n",
    "    user_input = input(\"please enter a number:\")\n",
    "    the_number = int(user_input)\n",
    "    if the_number >= 0:\n",
    "        print(factorial(the_number))\n",
    "    else:\n",
    "        raise TypeError\n",
    "except:\n",
    "    print(\"Error: You must enter a number\")"
   ]
  },
  {
   "cell_type": "markdown",
   "id": "d9c5353b-8567-49f8-942b-17f1748ae23c",
   "metadata": {},
   "source": [
    "When we enter \"-1\", the boolean check `the_number >= 0` will evaluate to False thus causing us to go the else statment, and raising an exception (causing the code to jump from the try to the except)"
   ]
  },
  {
   "cell_type": "markdown",
   "id": "a1ae8425-f2df-4019-8fa5-811bdca032df",
   "metadata": {},
   "source": [
    "#### Example #3: Creating Custom Exceptions"
   ]
  },
  {
   "cell_type": "markdown",
   "id": "b0de9a7e-c644-4ee7-883d-3da87d0c33c1",
   "metadata": {},
   "source": [
    "Looking at Example #2, notice that if we enter \"-1\" it prints the same error message as if we type \"abc\".\n",
    "\n",
    "If we want to print a different error message, we can create a custom exception"
   ]
  },
  {
   "cell_type": "code",
   "execution_count": 4,
   "id": "7f14fa86-ec02-4f07-8b5a-9bad548f5f4a",
   "metadata": {},
   "outputs": [],
   "source": [
    "class NegativeIntegerException(Exception):\n",
    "    pass"
   ]
  },
  {
   "cell_type": "code",
   "execution_count": 5,
   "id": "bb402f78-ac61-40f0-bbc8-35fff7980a02",
   "metadata": {},
   "outputs": [
    {
     "name": "stdin",
     "output_type": "stream",
     "text": [
      "please enter a number: -1\n"
     ]
    },
    {
     "name": "stdout",
     "output_type": "stream",
     "text": [
      "Error: You must enter a non-negative integer\n"
     ]
    }
   ],
   "source": [
    "try:\n",
    "    user_input = input(\"please enter a number:\")\n",
    "    the_number = int(user_input)\n",
    "    if the_number >= 0:\n",
    "        print(factorial(the_number))\n",
    "    else:\n",
    "        raise NegativeIntegerException\n",
    "except NegativeIntegerException:\n",
    "    print(\"Error: You must enter a non-negative integer\")\n",
    "except:\n",
    "    print(\"Error: You must enter a number\")"
   ]
  },
  {
   "cell_type": "code",
   "execution_count": null,
   "id": "2ca8e721-112c-4add-85e1-7ca26f77e814",
   "metadata": {},
   "outputs": [],
   "source": []
  },
  {
   "cell_type": "code",
   "execution_count": null,
   "id": "e20b6513-485c-4a61-9a7f-783644866b6d",
   "metadata": {},
   "outputs": [],
   "source": []
  },
  {
   "cell_type": "code",
   "execution_count": null,
   "id": "61274bae-8139-42f0-a710-ab30805d0d28",
   "metadata": {},
   "outputs": [],
   "source": []
  }
 ],
 "metadata": {
  "kernelspec": {
   "display_name": "Python 3",
   "language": "python",
   "name": "python3"
  },
  "language_info": {
   "codemirror_mode": {
    "name": "ipython",
    "version": 3
   },
   "file_extension": ".py",
   "mimetype": "text/x-python",
   "name": "python",
   "nbconvert_exporter": "python",
   "pygments_lexer": "ipython3",
   "version": "3.8.8"
  }
 },
 "nbformat": 4,
 "nbformat_minor": 5
}
