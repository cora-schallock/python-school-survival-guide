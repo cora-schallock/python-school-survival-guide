{
 "cells": [
  {
   "cell_type": "markdown",
   "id": "d0abdc8c-2ec3-423a-977f-52d4662173e8",
   "metadata": {},
   "source": [
    "#### Example #1: Basic try-except\n",
    "In this example, you are taking input from a user that indicates a number. If the input can not be convereted to a number you should tell the user what they did wrong."
   ]
  },
  {
   "cell_type": "code",
   "execution_count": 2,
   "id": "42e7d498-4ded-46b8-a802-65f1d7a6ec74",
   "metadata": {},
   "outputs": [],
   "source": [
    "def factorial(x):\n",
    "    if x == 0:\n",
    "        return 1\n",
    "    else:\n",
    "        return x*factorial(x-1)"
   ]
  },
  {
   "cell_type": "code",
   "execution_count": 4,
   "id": "6a3f3397-f9e7-464c-9f61-25a96797b2af",
   "metadata": {},
   "outputs": [
    {
     "name": "stdin",
     "output_type": "stream",
     "text": [
      "please enter a number: abc\n"
     ]
    },
    {
     "ename": "ValueError",
     "evalue": "invalid literal for int() with base 10: 'abc'",
     "output_type": "error",
     "traceback": [
      "\u001b[1;31m---------------------------------------------------------------------------\u001b[0m",
      "\u001b[1;31mValueError\u001b[0m                                Traceback (most recent call last)",
      "\u001b[1;32m<ipython-input-4-0511fe3602fa>\u001b[0m in \u001b[0;36m<module>\u001b[1;34m\u001b[0m\n\u001b[0;32m      1\u001b[0m \u001b[0muser_input\u001b[0m \u001b[1;33m=\u001b[0m \u001b[0minput\u001b[0m\u001b[1;33m(\u001b[0m\u001b[1;34m\"please enter a number:\"\u001b[0m\u001b[1;33m)\u001b[0m\u001b[1;33m\u001b[0m\u001b[1;33m\u001b[0m\u001b[0m\n\u001b[1;32m----> 2\u001b[1;33m \u001b[0mthe_number\u001b[0m \u001b[1;33m=\u001b[0m \u001b[0mint\u001b[0m\u001b[1;33m(\u001b[0m\u001b[0muser_input\u001b[0m\u001b[1;33m)\u001b[0m\u001b[1;33m\u001b[0m\u001b[1;33m\u001b[0m\u001b[0m\n\u001b[0m\u001b[0;32m      3\u001b[0m \u001b[0mprint\u001b[0m\u001b[1;33m(\u001b[0m\u001b[0mfactorial\u001b[0m\u001b[1;33m(\u001b[0m\u001b[0mthe_number\u001b[0m\u001b[1;33m)\u001b[0m\u001b[1;33m)\u001b[0m\u001b[1;33m\u001b[0m\u001b[1;33m\u001b[0m\u001b[0m\n",
      "\u001b[1;31mValueError\u001b[0m: invalid literal for int() with base 10: 'abc'"
     ]
    }
   ],
   "source": [
    "user_input = input(\"please enter a number:\")\n",
    "the_number = int(user_input)\n",
    "print(factorial(the_number))"
   ]
  },
  {
   "cell_type": "code",
   "execution_count": 3,
   "id": "fd4a714e-007d-45e8-900d-90756b488427",
   "metadata": {},
   "outputs": [
    {
     "name": "stdin",
     "output_type": "stream",
     "text": [
      "please enter a number: abc\n"
     ]
    },
    {
     "name": "stdout",
     "output_type": "stream",
     "text": [
      "Error: You must enter a number\n"
     ]
    }
   ],
   "source": [
    "try:\n",
    "    user_input = input(\"please enter a number:\")\n",
    "    the_number = int(user_input)\n",
    "    print(factorial(the_number))\n",
    "except:\n",
    "    print(\"Error: You must enter a number\")"
   ]
  },
  {
   "cell_type": "markdown",
   "id": "d95880cd-8719-41e0-be92-f761ce178504",
   "metadata": {},
   "source": [
    "If the user inputs a string of letters, say \"abc\", an exception is raised in the third line as calling int(\"abc\") raises an exception, and the program jumps from the try block down to the except block."
   ]
  },
  {
   "cell_type": "code",
   "execution_count": null,
   "id": "d9ff75bc-8271-4e54-acbb-52dcad0b4c50",
   "metadata": {},
   "outputs": [],
   "source": []
  }
 ],
 "metadata": {
  "kernelspec": {
   "display_name": "Python 3",
   "language": "python",
   "name": "python3"
  },
  "language_info": {
   "codemirror_mode": {
    "name": "ipython",
    "version": 3
   },
   "file_extension": ".py",
   "mimetype": "text/x-python",
   "name": "python",
   "nbconvert_exporter": "python",
   "pygments_lexer": "ipython3",
   "version": "3.8.8"
  }
 },
 "nbformat": 4,
 "nbformat_minor": 5
}
